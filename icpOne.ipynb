{
  "cells": [
    {
      "cell_type": "code",
      "execution_count": 21,
      "metadata": {
        "id": "6yZiu_K05QBo"
      },
      "outputs": [],
      "source": [
        "## Importing libraries\n",
        "import pandas as pd\n",
        "import numpy as np\n",
        "import tensorflow as tf\n",
        "import matplotlib.pyplot as plt\n",
        "import keras.utils as image\n",
        "import os\n",
        "\n",
        "from sklearn.model_selection import train_test_split\n",
        "from keras.preprocessing.image import ImageDataGenerator\n",
        "from keras.layers import Conv2D, MaxPooling2D, Flatten, Dropout, Dense\n",
        "from keras.models import Sequential"
      ]
    },
    {
      "attachments": {},
      "cell_type": "markdown",
      "metadata": {
        "id": "1xIJrSnO5bCw"
      },
      "source": [
        "## Loading Multi-class weather dataset"
      ]
    },
    {
      "cell_type": "code",
      "execution_count": 22,
      "metadata": {
        "id": "dN1eET8o7_uc"
      },
      "outputs": [],
      "source": [
        "data_dir = 'dataset' ## Path to multi-class weather dataset\n",
        "classes = ['cloudy', 'rain', 'shine', 'sunrise'] #ID classes\n",
        "## Create empty lists to hold the file paths and labels\n",
        "filepaths = []\n",
        "labels = []\n",
        "\n",
        "## Iterate over each file in the data directory\n",
        "for filename in os.listdir(data_dir):\n",
        "    \n",
        "    ## Check if the file is a PNG image\n",
        "    if filename.endswith('.jpg'):\n",
        "        \n",
        "        ## Extract the class name from the file name\n",
        "        class_name = filename.split('.')[0]\n",
        "        \n",
        "        ## Iterate over each class and check if the class name contains the class\n",
        "        for i, c in enumerate(classes):\n",
        "            if c in class_name:\n",
        "                \n",
        "                ## If the class is found in the file name, add the file path and label to the corresponding lists\n",
        "                filepaths.append(os.path.join(data_dir, filename))\n",
        "                labels.append(classes[i])\n",
        "                \n",
        "                ## Break out of the inner loop to avoid adding the same file to multiple classes\n",
        "                break"
      ]
    },
    {
      "cell_type": "code",
      "execution_count": 23,
      "metadata": {
        "id": "c6jNipqW8gWb"
      },
      "outputs": [],
      "source": [
        "## Load the file paths and labels into a Pandas DataFrame\n",
        "df = pd.DataFrame({'filepath': filepaths, 'label': labels})\n",
        "\n",
        "## Split the data into training and testing sets\n",
        "train_df, test_df = train_test_split(df, test_size=0.2, random_state=42)"
      ]
    },
    {
      "cell_type": "code",
      "execution_count": 24,
      "metadata": {
        "colab": {
          "base_uri": "https://localhost:8080/",
          "height": 206
        },
        "id": "rtvufLIB_UzA",
        "outputId": "14ae4229-153e-48e8-8b04-a2cca5a7be73"
      },
      "outputs": [
        {
          "data": {
            "text/html": [
              "<div>\n",
              "<style scoped>\n",
              "    .dataframe tbody tr th:only-of-type {\n",
              "        vertical-align: middle;\n",
              "    }\n",
              "\n",
              "    .dataframe tbody tr th {\n",
              "        vertical-align: top;\n",
              "    }\n",
              "\n",
              "    .dataframe thead th {\n",
              "        text-align: right;\n",
              "    }\n",
              "</style>\n",
              "<table border=\"1\" class=\"dataframe\">\n",
              "  <thead>\n",
              "    <tr style=\"text-align: right;\">\n",
              "      <th></th>\n",
              "      <th>filepath</th>\n",
              "      <th>label</th>\n",
              "    </tr>\n",
              "  </thead>\n",
              "  <tbody>\n",
              "    <tr>\n",
              "      <th>1103</th>\n",
              "      <td>dataset\\sunrise81.jpg</td>\n",
              "      <td>sunrise</td>\n",
              "    </tr>\n",
              "    <tr>\n",
              "      <th>867</th>\n",
              "      <td>dataset\\sunrise190.jpg</td>\n",
              "      <td>sunrise</td>\n",
              "    </tr>\n",
              "    <tr>\n",
              "      <th>184</th>\n",
              "      <td>dataset\\cloudy265.jpg</td>\n",
              "      <td>cloudy</td>\n",
              "    </tr>\n",
              "    <tr>\n",
              "      <th>1041</th>\n",
              "      <td>dataset\\sunrise347.jpg</td>\n",
              "      <td>sunrise</td>\n",
              "    </tr>\n",
              "    <tr>\n",
              "      <th>1117</th>\n",
              "      <td>dataset\\sunrise95.jpg</td>\n",
              "      <td>sunrise</td>\n",
              "    </tr>\n",
              "  </tbody>\n",
              "</table>\n",
              "</div>"
            ],
            "text/plain": [
              "                    filepath    label\n",
              "1103   dataset\\sunrise81.jpg  sunrise\n",
              "867   dataset\\sunrise190.jpg  sunrise\n",
              "184    dataset\\cloudy265.jpg   cloudy\n",
              "1041  dataset\\sunrise347.jpg  sunrise\n",
              "1117   dataset\\sunrise95.jpg  sunrise"
            ]
          },
          "execution_count": 24,
          "metadata": {},
          "output_type": "execute_result"
        }
      ],
      "source": [
        "train_df.head()"
      ]
    },
    {
      "attachments": {},
      "cell_type": "markdown",
      "metadata": {
        "id": "T9GUCqU--sOR"
      },
      "source": [
        "## Data preparation - preprocessing images"
      ]
    },
    {
      "cell_type": "code",
      "execution_count": 25,
      "metadata": {
        "id": "SUlwbrd89QcJ"
      },
      "outputs": [],
      "source": [
        "## Define the input shape of the images | reshaped to 128 x 128\n",
        "input_shape = (128, 128, 3)\n",
        "\n",
        "## Define the number of classes\n",
        "num_classes = len(classes)\n",
        "\n",
        "## Create an instance of the ImageDataGenerator for the training data\n",
        "train_datagen = ImageDataGenerator(\n",
        "    rescale=1./255,  ## Scale the pixel values to the range [0, 1], good for faster model training\n",
        ")\n",
        "\n",
        "## Create an instance of the ImageDataGenerator for the testing data\n",
        "test_datagen = ImageDataGenerator(rescale=1./255)\n",
        "\n",
        "## Define the batch size of 32 samples\n",
        "batch_size = 32"
      ]
    },
    {
      "cell_type": "code",
      "execution_count": 13,
      "metadata": {
        "colab": {
          "base_uri": "https://localhost:8080/"
        },
        "id": "h2L7aGVJ-_y3",
        "outputId": "ab0d5367-29e5-449d-ad68-cf0a4f769386"
      },
      "outputs": [
        {
          "name": "stdout",
          "output_type": "stream",
          "text": [
            "Found 897 validated image filenames belonging to 4 classes.\n",
            "Found 225 validated image filenames belonging to 4 classes.\n"
          ]
        }
      ],
      "source": [
        "## Create the generators for the training and testing data\n",
        "train_generator = train_datagen.flow_from_dataframe(\n",
        "    train_df,\n",
        "    x_col='filepath',\n",
        "    y_col='label',\n",
        "    target_size=input_shape[:2],\n",
        "    batch_size=batch_size,\n",
        "    class_mode='categorical',\n",
        ")\n",
        "\n",
        "test_generator = test_datagen.flow_from_dataframe(\n",
        "    test_df,\n",
        "    x_col='filepath',\n",
        "    y_col='label',\n",
        "    target_size=input_shape[:2],\n",
        "    batch_size=batch_size,\n",
        "    class_mode='categorical',\n",
        ")"
      ]
    },
    {
      "attachments": {},
      "cell_type": "markdown",
      "metadata": {
        "id": "c7TF4RMG_YcQ"
      },
      "source": [
        "## Training Convolutional Neural Network (CNN) Model"
      ]
    },
    {
      "cell_type": "code",
      "execution_count": 26,
      "metadata": {
        "id": "JvIX6WcX_AbM"
      },
      "outputs": [],
      "source": [
        "# Defining the CNN model with dropout\n",
        "model = Sequential([\n",
        "    Conv2D(32, (3, 3), activation='relu', input_shape=input_shape),\n",
        "    MaxPooling2D((2, 2)),\n",
        "    Conv2D(64, (3, 3), activation='relu'),\n",
        "    MaxPooling2D((2, 2)),\n",
        "    Conv2D(128, (3, 3), activation='relu'),\n",
        "    MaxPooling2D((2, 2)),\n",
        "    Flatten(),\n",
        "    Dropout(0.5),\n",
        "    Dense(128, activation='relu'),\n",
        "    Dropout(0.5),\n",
        "    Dense(num_classes, activation='softmax')\n",
        "])"
      ]
    },
    {
      "cell_type": "code",
      "execution_count": 15,
      "metadata": {
        "colab": {
          "base_uri": "https://localhost:8080/"
        },
        "id": "xG80i3cd_gxf",
        "outputId": "680584e8-698c-4cf6-a42a-8ca3a4003384"
      },
      "outputs": [
        {
          "name": "stdout",
          "output_type": "stream",
          "text": [
            "Model: \"sequential\"\n",
            "_________________________________________________________________\n",
            " Layer (type)                Output Shape              Param #   \n",
            "=================================================================\n",
            " conv2d (Conv2D)             (None, 126, 126, 32)      896       \n",
            "                                                                 \n",
            " max_pooling2d (MaxPooling2D  (None, 63, 63, 32)       0         \n",
            " )                                                               \n",
            "                                                                 \n",
            " conv2d_1 (Conv2D)           (None, 61, 61, 64)        18496     \n",
            "                                                                 \n",
            " max_pooling2d_1 (MaxPooling  (None, 30, 30, 64)       0         \n",
            " 2D)                                                             \n",
            "                                                                 \n",
            " conv2d_2 (Conv2D)           (None, 28, 28, 128)       73856     \n",
            "                                                                 \n",
            " max_pooling2d_2 (MaxPooling  (None, 14, 14, 128)      0         \n",
            " 2D)                                                             \n",
            "                                                                 \n",
            " flatten (Flatten)           (None, 25088)             0         \n",
            "                                                                 \n",
            " dropout (Dropout)           (None, 25088)             0         \n",
            "                                                                 \n",
            " dense (Dense)               (None, 128)               3211392   \n",
            "                                                                 \n",
            " dropout_1 (Dropout)         (None, 128)               0         \n",
            "                                                                 \n",
            " dense_1 (Dense)             (None, 4)                 516       \n",
            "                                                                 \n",
            "=================================================================\n",
            "Total params: 3,305,156\n",
            "Trainable params: 3,305,156\n",
            "Non-trainable params: 0\n",
            "_________________________________________________________________\n"
          ]
        }
      ],
      "source": [
        "## See Model Architecture\n",
        "model.summary()"
      ]
    },
    {
      "cell_type": "code",
      "execution_count": 16,
      "metadata": {
        "colab": {
          "base_uri": "https://localhost:8080/"
        },
        "id": "Q3O_TPam_k0M",
        "outputId": "16697102-695b-45b8-9f14-205f00af1dc3"
      },
      "outputs": [
        {
          "name": "stdout",
          "output_type": "stream",
          "text": [
            "Epoch 1/30\n",
            "29/29 [==============================] - 28s 896ms/step - loss: 0.9478 - accuracy: 0.5819 - val_loss: 0.5883 - val_accuracy: 0.7822\n",
            "Epoch 2/30\n",
            "29/29 [==============================] - 17s 581ms/step - loss: 0.5667 - accuracy: 0.8138 - val_loss: 0.5865 - val_accuracy: 0.7644\n",
            "Epoch 3/30\n",
            "29/29 [==============================] - 16s 554ms/step - loss: 0.5641 - accuracy: 0.7815 - val_loss: 0.4133 - val_accuracy: 0.8489\n",
            "Epoch 4/30\n",
            "29/29 [==============================] - 16s 575ms/step - loss: 0.5551 - accuracy: 0.8138 - val_loss: 0.3729 - val_accuracy: 0.8667\n",
            "Epoch 5/30\n",
            "29/29 [==============================] - 17s 589ms/step - loss: 0.3591 - accuracy: 0.8707 - val_loss: 0.3413 - val_accuracy: 0.8978\n",
            "Epoch 6/30\n",
            "29/29 [==============================] - 16s 555ms/step - loss: 0.3252 - accuracy: 0.8997 - val_loss: 0.3405 - val_accuracy: 0.8578\n",
            "Epoch 7/30\n",
            "29/29 [==============================] - 21s 727ms/step - loss: 0.2805 - accuracy: 0.9097 - val_loss: 0.2680 - val_accuracy: 0.9022\n",
            "Epoch 8/30\n",
            "29/29 [==============================] - 22s 765ms/step - loss: 0.3053 - accuracy: 0.8829 - val_loss: 0.2938 - val_accuracy: 0.9156\n",
            "Epoch 9/30\n",
            "29/29 [==============================] - 22s 781ms/step - loss: 0.2900 - accuracy: 0.8963 - val_loss: 0.3115 - val_accuracy: 0.9111\n",
            "Epoch 10/30\n",
            "29/29 [==============================] - 21s 741ms/step - loss: 0.2185 - accuracy: 0.9175 - val_loss: 0.2321 - val_accuracy: 0.9244\n",
            "Epoch 11/30\n",
            "29/29 [==============================] - 19s 671ms/step - loss: 0.1501 - accuracy: 0.9431 - val_loss: 0.6868 - val_accuracy: 0.8311\n",
            "Epoch 12/30\n",
            "29/29 [==============================] - 19s 678ms/step - loss: 0.1727 - accuracy: 0.9353 - val_loss: 0.2381 - val_accuracy: 0.9244\n",
            "Epoch 13/30\n",
            "29/29 [==============================] - 18s 641ms/step - loss: 0.1472 - accuracy: 0.9498 - val_loss: 0.2241 - val_accuracy: 0.9556\n",
            "Epoch 14/30\n",
            "29/29 [==============================] - 19s 649ms/step - loss: 0.1326 - accuracy: 0.9521 - val_loss: 0.2106 - val_accuracy: 0.9378\n",
            "Epoch 15/30\n",
            "29/29 [==============================] - 19s 641ms/step - loss: 0.1451 - accuracy: 0.9454 - val_loss: 0.2207 - val_accuracy: 0.9556\n",
            "Epoch 16/30\n",
            "29/29 [==============================] - 19s 656ms/step - loss: 0.1509 - accuracy: 0.9454 - val_loss: 0.4212 - val_accuracy: 0.9156\n",
            "Epoch 17/30\n",
            "29/29 [==============================] - 19s 675ms/step - loss: 0.1300 - accuracy: 0.9498 - val_loss: 0.2305 - val_accuracy: 0.9511\n",
            "Epoch 18/30\n",
            "29/29 [==============================] - 20s 692ms/step - loss: 0.1143 - accuracy: 0.9509 - val_loss: 0.5218 - val_accuracy: 0.8711\n",
            "Epoch 19/30\n",
            "29/29 [==============================] - 20s 671ms/step - loss: 0.1438 - accuracy: 0.9365 - val_loss: 0.2403 - val_accuracy: 0.9378\n",
            "Epoch 20/30\n",
            "29/29 [==============================] - 20s 707ms/step - loss: 0.1101 - accuracy: 0.9576 - val_loss: 0.2475 - val_accuracy: 0.9244\n",
            "Epoch 21/30\n",
            "29/29 [==============================] - 20s 691ms/step - loss: 0.0734 - accuracy: 0.9721 - val_loss: 0.2577 - val_accuracy: 0.9511\n",
            "Epoch 22/30\n",
            "29/29 [==============================] - 20s 673ms/step - loss: 0.0835 - accuracy: 0.9688 - val_loss: 0.1951 - val_accuracy: 0.9378\n",
            "Epoch 23/30\n",
            "29/29 [==============================] - 19s 659ms/step - loss: 0.0657 - accuracy: 0.9766 - val_loss: 0.2488 - val_accuracy: 0.9378\n",
            "Epoch 24/30\n",
            "29/29 [==============================] - 19s 660ms/step - loss: 0.0671 - accuracy: 0.9788 - val_loss: 0.1879 - val_accuracy: 0.9333\n",
            "Epoch 25/30\n",
            "29/29 [==============================] - 20s 696ms/step - loss: 0.1143 - accuracy: 0.9666 - val_loss: 0.2618 - val_accuracy: 0.9422\n",
            "Epoch 26/30\n",
            "29/29 [==============================] - 19s 655ms/step - loss: 0.0934 - accuracy: 0.9677 - val_loss: 0.2574 - val_accuracy: 0.9422\n",
            "Epoch 27/30\n",
            "29/29 [==============================] - 20s 692ms/step - loss: 0.0719 - accuracy: 0.9777 - val_loss: 0.3791 - val_accuracy: 0.9111\n",
            "Epoch 28/30\n",
            "29/29 [==============================] - 20s 687ms/step - loss: 0.0760 - accuracy: 0.9755 - val_loss: 0.2350 - val_accuracy: 0.9422\n",
            "Epoch 29/30\n",
            "29/29 [==============================] - 19s 654ms/step - loss: 0.0787 - accuracy: 0.9699 - val_loss: 0.2841 - val_accuracy: 0.9200\n",
            "Epoch 30/30\n",
            "29/29 [==============================] - 19s 671ms/step - loss: 0.4866 - accuracy: 0.9164 - val_loss: 0.3449 - val_accuracy: 0.8933\n"
          ]
        }
      ],
      "source": [
        "## Compile the model\n",
        "model.compile(optimizer='adam',\n",
        "              loss='categorical_crossentropy',\n",
        "              metrics=['accuracy'])\n",
        "\n",
        "## Train the model\n",
        "history = model.fit(train_generator,\n",
        "                    epochs=30,\n",
        "                    validation_data=test_generator)"
      ]
    },
    {
      "cell_type": "code",
      "execution_count": 27,
      "metadata": {
        "colab": {
          "base_uri": "https://localhost:8080/",
          "height": 927
        },
        "id": "T7CRz_C9_tE4",
        "outputId": "027917ad-802e-4b3e-b59d-51fe0aadcc7b"
      },
      "outputs": [
        {
          "data": {
            "image/png": "[encoded data removed]",
            "text/plain": [
              "<Figure size 432x288 with 1 Axes>"
            ]
          },
          "metadata": {
            "needs_background": "light"
          },
          "output_type": "display_data"
        },
        {
          "data": {
            "image/png": "[encoded data removed]",
            "text/plain": [
              "<Figure size 432x288 with 1 Axes>"
            ]
          },
          "metadata": {
            "needs_background": "light"
          },
          "output_type": "display_data"
        }
      ],
      "source": [
        "## Plot the training and testing accuracy curves\n",
        "plt.plot(history.history['accuracy'], label='Training accuracy')\n",
        "plt.plot(history.history['val_accuracy'], label='Test accuracy')\n",
        "plt.title('Training and Test Accuracy')\n",
        "plt.xlabel('Epoch')\n",
        "plt.ylabel('Accuracy')\n",
        "plt.legend()\n",
        "plt.show()\n",
        "\n",
        "## Plot the training and testing loss curves\n",
        "plt.plot(history.history['loss'], label='Training loss')\n",
        "plt.plot(history.history['val_loss'], label='Test loss')\n",
        "plt.title('Training and Test Loss')\n",
        "plt.xlabel('Epoch')\n",
        "plt.ylabel('Loss')\n",
        "plt.legend()\n",
        "plt.show()"
      ]
    },
    {
      "attachments": {},
      "cell_type": "markdown",
      "metadata": {
        "id": "EfUbVZ-YBDCl"
      },
      "source": [
        "## New Data Inference"
      ]
    },
    {
      "cell_type": "code",
      "execution_count": 30,
      "metadata": {
        "colab": {
          "base_uri": "https://localhost:8080/"
        },
        "id": "lH1p6le0BQ_i",
        "outputId": "cd8b5815-8e46-40c3-b549-6e43ee36552a"
      },
      "outputs": [
        {
          "name": "stdout",
          "output_type": "stream",
          "text": [
            "1/1 [==============================] - 0s 23ms/step\n",
            "The predicted class label is: cloudy\n"
          ]
        }
      ],
      "source": [
        "## Change Path to Image\n",
        "path_to_image = 'dataset/cloudy1.jpg'\n",
        "\n",
        "## Load the image and resize to 128x128\n",
        "new_image = image.load_img(path_to_image, target_size=(128, 128))\n",
        "\n",
        "## Convert the image to a numpy array\n",
        "new_image_array = image.img_to_array(new_image)\n",
        "\n",
        "## Reshape the array to match the input shape of the model\n",
        "new_image_array = new_image_array.reshape((1, 128, 128, 3))\n",
        "\n",
        "## Scale the pixel values to be between 0 and 1\n",
        "new_image_array = new_image_array / 255.0\n",
        "\n",
        "## Make a prediction using the model\n",
        "prediction = model.predict(new_image_array)\n",
        "\n",
        "## Assign class label with the highest probability\n",
        "class_label = classes[np.argmax(prediction)]\n",
        "\n",
        "## Print the predicted class label\n",
        "print('The predicted class label is:', class_label)"
      ]
    },
    {
      "cell_type": "code",
      "execution_count": null,
      "metadata": {},
      "outputs": [],
      "source": []
    }
  ],
  "metadata": {
    "accelerator": "GPU",
    "colab": {
      "gpuType": "T4",
      "provenance": []
    },
    "gpuClass": "standard",
    "kernelspec": {
      "display_name": "Python 3.8.5 ('base')",
      "language": "python",
      "name": "python3"
    },
    "language_info": {
      "codemirror_mode": {
        "name": "ipython",
        "version": 3
      },
      "file_extension": ".py",
      "mimetype": "text/x-python",
      "name": "python",
      "nbconvert_exporter": "python",
      "pygments_lexer": "ipython3",
      "version": "3.8.5"
    },
    "vscode": {
      "interpreter": {
        "hash": "d5ff4e146fb9a3e1cf6185cc4fbf3cf96232eb5477bd6b300e8cf8dbd080c4cf"
      }
    }
  },
  "nbformat": 4,
  "nbformat_minor": 0
}
