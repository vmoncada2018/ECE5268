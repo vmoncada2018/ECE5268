{
  "cells": [
    {
      "cell_type": "code",
      "execution_count": 1,
      "metadata": {
        "id": "6yZiu_K05QBo"
      },
      "outputs": [],
      "source": [
        "## Importing libraries\n",
        "import pandas as pd\n",
        "import numpy as np\n",
        "import tensorflow as tf\n",
        "import matplotlib.pyplot as plt\n",
        "import keras.utils as image\n",
        "import os\n",
        "\n",
        "from sklearn.model_selection import train_test_split\n",
        "from keras.preprocessing.image import ImageDataGenerator\n",
        "from keras.layers import Conv2D, MaxPooling2D, Flatten, Dropout, Dense\n",
        "from keras.models import Sequential"
      ]
    },
    {
      "attachments": {},
      "cell_type": "markdown",
      "metadata": {
        "id": "1xIJrSnO5bCw"
      },
      "source": [
        "## Loading Multi-class weather dataset"
      ]
    },
    {
      "cell_type": "code",
      "execution_count": 2,
      "metadata": {
        "id": "dN1eET8o7_uc"
      },
      "outputs": [],
      "source": [
        "data_dir = 'dataset' ## Path to multi-class weather dataset\n",
        "classes = ['cloudy', 'rain', 'shine', 'sunrise'] #ID classes\n",
        "## Create empty lists to hold the file paths and labels\n",
        "filepaths = []\n",
        "labels = []\n",
        "\n",
        "## Iterate over each file in the data directory\n",
        "for filename in os.listdir(data_dir):\n",
        "    \n",
        "    ## Check if the file is a PNG image\n",
        "    if filename.endswith('.jpg'):\n",
        "        \n",
        "        ## Extract the class name from the file name\n",
        "        class_name = filename.split('.')[0]\n",
        "        \n",
        "        ## Iterate over each class and check if the class name contains the class\n",
        "        for i, c in enumerate(classes):\n",
        "            if c in class_name:\n",
        "                \n",
        "                ## If the class is found in the file name, add the file path and label to the corresponding lists\n",
        "                filepaths.append(os.path.join(data_dir, filename))\n",
        "                labels.append(classes[i])\n",
        "                \n",
        "                ## Break out of the inner loop to avoid adding the same file to multiple classes\n",
        "                break"
      ]
    },
    {
      "cell_type": "code",
      "execution_count": 3,
      "metadata": {
        "id": "c6jNipqW8gWb"
      },
      "outputs": [],
      "source": [
        "## Load the file paths and labels into a Pandas DataFrame\n",
        "df = pd.DataFrame({'filepath': filepaths, 'label': labels})\n",
        "\n",
        "## Split the data into training and testing sets\n",
        "train_df, test_df = train_test_split(df, test_size=0.2, random_state=42)"
      ]
    },
    {
      "cell_type": "code",
      "execution_count": 4,
      "metadata": {
        "colab": {
          "base_uri": "https://localhost:8080/",
          "height": 206
        },
        "id": "rtvufLIB_UzA",
        "outputId": "14ae4229-153e-48e8-8b04-a2cca5a7be73"
      },
      "outputs": [
        {
          "data": {
            "text/html": [
              "<div>\n",
              "<style scoped>\n",
              "    .dataframe tbody tr th:only-of-type {\n",
              "        vertical-align: middle;\n",
              "    }\n",
              "\n",
              "    .dataframe tbody tr th {\n",
              "        vertical-align: top;\n",
              "    }\n",
              "\n",
              "    .dataframe thead th {\n",
              "        text-align: right;\n",
              "    }\n",
              "</style>\n",
              "<table border=\"1\" class=\"dataframe\">\n",
              "  <thead>\n",
              "    <tr style=\"text-align: right;\">\n",
              "      <th></th>\n",
              "      <th>filepath</th>\n",
              "      <th>label</th>\n",
              "    </tr>\n",
              "  </thead>\n",
              "  <tbody>\n",
              "    <tr>\n",
              "      <th>1103</th>\n",
              "      <td>dataset\\sunrise81.jpg</td>\n",
              "      <td>sunrise</td>\n",
              "    </tr>\n",
              "    <tr>\n",
              "      <th>867</th>\n",
              "      <td>dataset\\sunrise190.jpg</td>\n",
              "      <td>sunrise</td>\n",
              "    </tr>\n",
              "    <tr>\n",
              "      <th>184</th>\n",
              "      <td>dataset\\cloudy265.jpg</td>\n",
              "      <td>cloudy</td>\n",
              "    </tr>\n",
              "    <tr>\n",
              "      <th>1041</th>\n",
              "      <td>dataset\\sunrise347.jpg</td>\n",
              "      <td>sunrise</td>\n",
              "    </tr>\n",
              "    <tr>\n",
              "      <th>1117</th>\n",
              "      <td>dataset\\sunrise95.jpg</td>\n",
              "      <td>sunrise</td>\n",
              "    </tr>\n",
              "  </tbody>\n",
              "</table>\n",
              "</div>"
            ],
            "text/plain": [
              "                    filepath    label\n",
              "1103   dataset\\sunrise81.jpg  sunrise\n",
              "867   dataset\\sunrise190.jpg  sunrise\n",
              "184    dataset\\cloudy265.jpg   cloudy\n",
              "1041  dataset\\sunrise347.jpg  sunrise\n",
              "1117   dataset\\sunrise95.jpg  sunrise"
            ]
          },
          "execution_count": 4,
          "metadata": {},
          "output_type": "execute_result"
        }
      ],
      "source": [
        "train_df.head()"
      ]
    },
    {
      "attachments": {},
      "cell_type": "markdown",
      "metadata": {
        "id": "T9GUCqU--sOR"
      },
      "source": [
        "## Data preparation - preprocessing images"
      ]
    },
    {
      "cell_type": "code",
      "execution_count": 5,
      "metadata": {
        "id": "SUlwbrd89QcJ"
      },
      "outputs": [],
      "source": [
        "## Functions obtained from https://www.tensorflow.org/api_docs/python/tf/keras/preprocessing/image/ImageDataGenerator\n",
        "\n",
        "## Define the input shape of the images | reshaped to 128 x 128\n",
        "input_shape = (128, 128, 3)\n",
        "\n",
        "## Define the number of classes\n",
        "num_classes = len(classes)\n",
        "\n",
        "## Create an instance of the ImageDataGenerator for the training data\n",
        "train_datagen = ImageDataGenerator(\n",
        "    rescale=1./255,  ## Scale the pixel values to the range [0, 1], good for faster model training\n",
        ")\n",
        "\n",
        "## Create an instance of the ImageDataGenerator for the testing data\n",
        "test_datagen = ImageDataGenerator(rescale=1./255)\n",
        "\n",
        "## Define the batch size of 32 samples\n",
        "batch_size = 32"
      ]
    },
    {
      "cell_type": "code",
      "execution_count": 6,
      "metadata": {
        "colab": {
          "base_uri": "https://localhost:8080/"
        },
        "id": "h2L7aGVJ-_y3",
        "outputId": "ab0d5367-29e5-449d-ad68-cf0a4f769386"
      },
      "outputs": [
        {
          "name": "stdout",
          "output_type": "stream",
          "text": [
            "Found 897 validated image filenames belonging to 4 classes.\n",
            "Found 225 validated image filenames belonging to 4 classes.\n"
          ]
        }
      ],
      "source": [
        "## Functions obtained from https://www.tensorflow.org/api_docs/python/tf/keras/preprocessing/image/ImageDataGenerator\n",
        "\n",
        "## Create the generators for the training and testing data\n",
        "train_generator = train_datagen.flow_from_dataframe(\n",
        "    train_df,\n",
        "    x_col='filepath',\n",
        "    y_col='label',\n",
        "    target_size=input_shape[:2],\n",
        "    batch_size=batch_size,\n",
        "    class_mode='categorical',\n",
        ")\n",
        "\n",
        "test_generator = test_datagen.flow_from_dataframe(\n",
        "    test_df,\n",
        "    x_col='filepath',\n",
        "    y_col='label',\n",
        "    target_size=input_shape[:2],\n",
        "    batch_size=batch_size,\n",
        "    class_mode='categorical',\n",
        ")"
      ]
    },
    {
      "attachments": {},
      "cell_type": "markdown",
      "metadata": {
        "id": "c7TF4RMG_YcQ"
      },
      "source": [
        "## Training Convolutional Neural Network (CNN) Model"
      ]
    },
    {
      "cell_type": "code",
      "execution_count": 7,
      "metadata": {
        "id": "JvIX6WcX_AbM"
      },
      "outputs": [],
      "source": [
        "## Functions obtained from https://www.tensorflow.org/tutorials/images/cnn\n",
        "\n",
        "## Defining the CNN model with dropout\n",
        "model = Sequential([\n",
        "    Conv2D(32, (3, 3), activation='relu', input_shape=input_shape),\n",
        "    MaxPooling2D((2, 2)),\n",
        "    Conv2D(64, (3, 3), activation='relu'),\n",
        "    MaxPooling2D((2, 2)),\n",
        "    Conv2D(128, (3, 3), activation='relu'),\n",
        "    MaxPooling2D((2, 2)),\n",
        "    Flatten(),\n",
        "    Dropout(0.5),\n",
        "    Dense(128, activation='relu'),\n",
        "    Dropout(0.5),\n",
        "    Dense(num_classes, activation='softmax')\n",
        "])"
      ]
    },
    {
      "cell_type": "code",
      "execution_count": 8,
      "metadata": {
        "colab": {
          "base_uri": "https://localhost:8080/"
        },
        "id": "xG80i3cd_gxf",
        "outputId": "680584e8-698c-4cf6-a42a-8ca3a4003384"
      },
      "outputs": [
        {
          "name": "stdout",
          "output_type": "stream",
          "text": [
            "Model: \"sequential\"\n",
            "_________________________________________________________________\n",
            " Layer (type)                Output Shape              Param #   \n",
            "=================================================================\n",
            " conv2d (Conv2D)             (None, 126, 126, 32)      896       \n",
            "                                                                 \n",
            " max_pooling2d (MaxPooling2D  (None, 63, 63, 32)       0         \n",
            " )                                                               \n",
            "                                                                 \n",
            " conv2d_1 (Conv2D)           (None, 61, 61, 64)        18496     \n",
            "                                                                 \n",
            " max_pooling2d_1 (MaxPooling  (None, 30, 30, 64)       0         \n",
            " 2D)                                                             \n",
            "                                                                 \n",
            " conv2d_2 (Conv2D)           (None, 28, 28, 128)       73856     \n",
            "                                                                 \n",
            " max_pooling2d_2 (MaxPooling  (None, 14, 14, 128)      0         \n",
            " 2D)                                                             \n",
            "                                                                 \n",
            " flatten (Flatten)           (None, 25088)             0         \n",
            "                                                                 \n",
            " dropout (Dropout)           (None, 25088)             0         \n",
            "                                                                 \n",
            " dense (Dense)               (None, 128)               3211392   \n",
            "                                                                 \n",
            " dropout_1 (Dropout)         (None, 128)               0         \n",
            "                                                                 \n",
            " dense_1 (Dense)             (None, 4)                 516       \n",
            "                                                                 \n",
            "=================================================================\n",
            "Total params: 3,305,156\n",
            "Trainable params: 3,305,156\n",
            "Non-trainable params: 0\n",
            "_________________________________________________________________\n"
          ]
        }
      ],
      "source": [
        "## See Model Architecture\n",
        "model.summary()"
      ]
    },
    {
      "cell_type": "code",
      "execution_count": 9,
      "metadata": {
        "colab": {
          "base_uri": "https://localhost:8080/"
        },
        "id": "Q3O_TPam_k0M",
        "outputId": "16697102-695b-45b8-9f14-205f00af1dc3"
      },
      "outputs": [
        {
          "name": "stdout",
          "output_type": "stream",
          "text": [
            "Epoch 1/30\n",
            "29/29 [==============================] - 15s 500ms/step - loss: 0.8990 - accuracy: 0.5998 - val_loss: 0.4953 - val_accuracy: 0.7778\n",
            "Epoch 2/30\n",
            "29/29 [==============================] - 13s 449ms/step - loss: 0.5716 - accuracy: 0.7860 - val_loss: 0.3835 - val_accuracy: 0.8578\n",
            "Epoch 3/30\n",
            "29/29 [==============================] - 13s 455ms/step - loss: 0.4594 - accuracy: 0.8328 - val_loss: 1.5484 - val_accuracy: 0.5378\n",
            "Epoch 4/30\n",
            "29/29 [==============================] - 13s 464ms/step - loss: 0.6025 - accuracy: 0.7848 - val_loss: 0.4097 - val_accuracy: 0.8622\n",
            "Epoch 5/30\n",
            "29/29 [==============================] - 14s 478ms/step - loss: 0.3618 - accuracy: 0.8796 - val_loss: 0.3503 - val_accuracy: 0.8844\n",
            "Epoch 6/30\n",
            "29/29 [==============================] - 14s 475ms/step - loss: 0.3105 - accuracy: 0.8863 - val_loss: 0.3580 - val_accuracy: 0.8578\n",
            "Epoch 7/30\n",
            "29/29 [==============================] - 14s 501ms/step - loss: 0.3952 - accuracy: 0.8450 - val_loss: 0.3892 - val_accuracy: 0.8711\n",
            "Epoch 8/30\n",
            "29/29 [==============================] - 14s 473ms/step - loss: 0.2771 - accuracy: 0.8963 - val_loss: 0.3455 - val_accuracy: 0.8889\n",
            "Epoch 9/30\n",
            "29/29 [==============================] - 14s 465ms/step - loss: 0.2775 - accuracy: 0.8919 - val_loss: 0.2958 - val_accuracy: 0.8844\n",
            "Epoch 10/30\n",
            "29/29 [==============================] - 14s 469ms/step - loss: 0.1806 - accuracy: 0.9287 - val_loss: 0.3000 - val_accuracy: 0.9156\n",
            "Epoch 11/30\n",
            "29/29 [==============================] - 13s 455ms/step - loss: 0.2044 - accuracy: 0.9208 - val_loss: 0.3633 - val_accuracy: 0.8800\n",
            "Epoch 12/30\n",
            "29/29 [==============================] - 13s 461ms/step - loss: 0.1703 - accuracy: 0.9342 - val_loss: 0.3268 - val_accuracy: 0.9156\n",
            "Epoch 13/30\n",
            "29/29 [==============================] - 13s 465ms/step - loss: 0.2004 - accuracy: 0.9075 - val_loss: 0.6996 - val_accuracy: 0.7911\n",
            "Epoch 14/30\n",
            "29/29 [==============================] - 13s 461ms/step - loss: 0.3083 - accuracy: 0.8841 - val_loss: 0.3652 - val_accuracy: 0.8756\n",
            "Epoch 15/30\n",
            "29/29 [==============================] - 14s 467ms/step - loss: 0.1643 - accuracy: 0.9476 - val_loss: 0.3722 - val_accuracy: 0.9022\n",
            "Epoch 16/30\n",
            "29/29 [==============================] - 13s 450ms/step - loss: 0.1524 - accuracy: 0.9431 - val_loss: 0.2858 - val_accuracy: 0.8978\n",
            "Epoch 17/30\n",
            "29/29 [==============================] - 13s 451ms/step - loss: 0.1263 - accuracy: 0.9532 - val_loss: 0.3232 - val_accuracy: 0.9111\n",
            "Epoch 18/30\n",
            "29/29 [==============================] - 13s 471ms/step - loss: 0.1089 - accuracy: 0.9543 - val_loss: 0.2925 - val_accuracy: 0.9244\n",
            "Epoch 19/30\n",
            "29/29 [==============================] - 14s 470ms/step - loss: 0.0983 - accuracy: 0.9643 - val_loss: 0.9536 - val_accuracy: 0.7956\n",
            "Epoch 20/30\n",
            "29/29 [==============================] - 13s 451ms/step - loss: 0.1706 - accuracy: 0.9420 - val_loss: 0.2816 - val_accuracy: 0.9156\n",
            "Epoch 21/30\n",
            "29/29 [==============================] - 13s 477ms/step - loss: 0.0791 - accuracy: 0.9666 - val_loss: 0.4094 - val_accuracy: 0.8978\n",
            "Epoch 22/30\n",
            "29/29 [==============================] - 13s 463ms/step - loss: 0.0919 - accuracy: 0.9654 - val_loss: 0.3131 - val_accuracy: 0.9378\n",
            "Epoch 23/30\n",
            "29/29 [==============================] - 13s 458ms/step - loss: 0.0849 - accuracy: 0.9677 - val_loss: 0.2845 - val_accuracy: 0.9111\n",
            "Epoch 24/30\n",
            "29/29 [==============================] - 13s 460ms/step - loss: 0.0662 - accuracy: 0.9777 - val_loss: 0.2615 - val_accuracy: 0.9289\n",
            "Epoch 25/30\n",
            "29/29 [==============================] - 13s 461ms/step - loss: 0.0680 - accuracy: 0.9799 - val_loss: 0.3320 - val_accuracy: 0.9111\n",
            "Epoch 26/30\n",
            "29/29 [==============================] - 13s 460ms/step - loss: 0.0424 - accuracy: 0.9877 - val_loss: 0.4414 - val_accuracy: 0.9156\n",
            "Epoch 27/30\n",
            "29/29 [==============================] - 13s 456ms/step - loss: 0.0377 - accuracy: 0.9877 - val_loss: 0.5467 - val_accuracy: 0.8844\n",
            "Epoch 28/30\n",
            "29/29 [==============================] - 13s 461ms/step - loss: 0.0793 - accuracy: 0.9777 - val_loss: 0.4687 - val_accuracy: 0.8844\n",
            "Epoch 29/30\n",
            "29/29 [==============================] - 13s 471ms/step - loss: 0.1214 - accuracy: 0.9532 - val_loss: 0.5039 - val_accuracy: 0.8533\n",
            "Epoch 30/30\n",
            "29/29 [==============================] - 13s 457ms/step - loss: 0.0729 - accuracy: 0.9788 - val_loss: 0.3473 - val_accuracy: 0.9244\n"
          ]
        }
      ],
      "source": [
        "## Functions obtained from https://www.tensorflow.org/api_docs/python/tf/keras/Model\n",
        "\n",
        "## Compile the model\n",
        "model.compile(optimizer='adam',\n",
        "              loss='categorical_crossentropy',\n",
        "              metrics=['accuracy'])\n",
        "\n",
        "## Train the model\n",
        "history = model.fit(train_generator,\n",
        "                    epochs=30,\n",
        "                    validation_data=test_generator)"
      ]
    },
    {
      "cell_type": "code",
      "execution_count": 11,
      "metadata": {
        "colab": {
          "base_uri": "https://localhost:8080/",
          "height": 927
        },
        "id": "T7CRz_C9_tE4",
        "outputId": "027917ad-802e-4b3e-b59d-51fe0aadcc7b"
      },
      "outputs": [
        {
          "data": {
            "image/png": "[encoded data removed]",
            "text/plain": [
              "<Figure size 432x288 with 1 Axes>"
            ]
          },
          "metadata": {
            "needs_background": "light"
          },
          "output_type": "display_data"
        },
        {
          "data": {
            "image/png": "[encoded data removed]",
            "text/plain": [
              "<Figure size 432x288 with 1 Axes>"
            ]
          },
          "metadata": {
            "needs_background": "light"
          },
          "output_type": "display_data"
        }
      ],
      "source": [
        "## Functiones obtained from https://machinelearningmastery.com/display-deep-learning-model-training-history-in-keras/\n",
        "\n",
        "## Plot the training and testing accuracy curves\n",
        "plt.plot(history.history['accuracy'], label='Training accuracy')\n",
        "plt.plot(history.history['val_accuracy'], label='Test accuracy')\n",
        "plt.title('Training and Test Accuracy')\n",
        "plt.xlabel('Epoch')\n",
        "plt.ylabel('Accuracy')\n",
        "plt.legend()\n",
        "plt.show()\n",
        "\n",
        "## Plot the training and testing loss curves\n",
        "plt.plot(history.history['loss'], label='Training loss')\n",
        "plt.plot(history.history['val_loss'], label='Test loss')\n",
        "plt.title('Training and Test Loss')\n",
        "plt.xlabel('Epoch')\n",
        "plt.ylabel('Loss')\n",
        "plt.legend()\n",
        "plt.show()"
      ]
    },
    {
      "attachments": {},
      "cell_type": "markdown",
      "metadata": {
        "id": "EfUbVZ-YBDCl"
      },
      "source": [
        "## New Data Inference"
      ]
    },
    {
      "cell_type": "code",
      "execution_count": 12,
      "metadata": {
        "colab": {
          "base_uri": "https://localhost:8080/"
        },
        "id": "lH1p6le0BQ_i",
        "outputId": "cd8b5815-8e46-40c3-b549-6e43ee36552a"
      },
      "outputs": [
        {
          "name": "stdout",
          "output_type": "stream",
          "text": [
            "1/1 [==============================] - 0s 124ms/step\n",
            "The predicted class label is: cloudy\n"
          ]
        }
      ],
      "source": [
        "## Functions obtained from https://www.tensorflow.org/api_docs/python/tf/keras/Model#predict\n",
        "\n",
        "## Change Path to Image\n",
        "path_to_image = 'dataset/cloudy1.jpg'\n",
        "\n",
        "## Load the image and resize to 128x128\n",
        "new_image = image.load_img(path_to_image, target_size=(128, 128))\n",
        "\n",
        "## Convert the image to a numpy array\n",
        "new_image_array = image.img_to_array(new_image)\n",
        "\n",
        "## Reshape the array to match the input shape of the model\n",
        "new_image_array = new_image_array.reshape((1, 128, 128, 3))\n",
        "\n",
        "## Scale the pixel values to be between 0 and 1\n",
        "new_image_array = new_image_array / 255.0\n",
        "\n",
        "## Make a prediction using the model\n",
        "prediction = model.predict(new_image_array)\n",
        "\n",
        "## Assign class label with the highest probability\n",
        "class_label = classes[np.argmax(prediction)]\n",
        "\n",
        "## Print the predicted class label\n",
        "print('The predicted class label is:', class_label)"
      ]
    },
    {
      "cell_type": "code",
      "execution_count": null,
      "metadata": {},
      "outputs": [],
      "source": []
    }
  ],
  "metadata": {
    "accelerator": "GPU",
    "colab": {
      "gpuType": "T4",
      "provenance": []
    },
    "gpuClass": "standard",
    "kernelspec": {
      "display_name": "Python 3.8.5 ('base')",
      "language": "python",
      "name": "python3"
    },
    "language_info": {
      "codemirror_mode": {
        "name": "ipython",
        "version": 3
      },
      "file_extension": ".py",
      "mimetype": "text/x-python",
      "name": "python",
      "nbconvert_exporter": "python",
      "pygments_lexer": "ipython3",
      "version": "3.8.5"
    },
    "vscode": {
      "interpreter": {
        "hash": "d5ff4e146fb9a3e1cf6185cc4fbf3cf96232eb5477bd6b300e8cf8dbd080c4cf"
      }
    }
  },
  "nbformat": 4,
  "nbformat_minor": 0
}
